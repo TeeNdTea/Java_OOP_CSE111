{
 "cells": [
  {
   "cell_type": "code",
   "execution_count": 2,
   "id": "b8ddda8f",
   "metadata": {},
   "outputs": [
    {
     "name": "stdout",
     "output_type": "stream",
     "text": [
      "Hello World!\n"
     ]
    }
   ],
   "source": [
    "# 1000 - Hello World\n",
    "print(\"Hello World!\")"
   ]
  },
  {
   "cell_type": "code",
   "execution_count": null,
   "id": "5a8afa86",
   "metadata": {},
   "outputs": [
    {
     "name": "stdout",
     "output_type": "stream",
     "text": [
      "X = 19"
     ]
    }
   ],
   "source": [
    "# 1001 - Extremely Basic\n",
    "a = int(input())\n",
    "b = int(input())\n",
    "x = a + b\n",
    "print(\"X =\",x)"
   ]
  },
  {
   "cell_type": "code",
   "execution_count": null,
   "id": "74fdb5a5",
   "metadata": {},
   "outputs": [],
   "source": [
    "def sum(a,b):\n",
    "    x = a+b\n",
    "    print(f\"X = {x}\")\n",
    "sum(10,9)"
   ]
  },
  {
   "cell_type": "code",
   "execution_count": null,
   "id": "ee318c4e",
   "metadata": {},
   "outputs": [
    {
     "name": "stdout",
     "output_type": "stream",
     "text": [
      "A=31819.3103\n"
     ]
    }
   ],
   "source": [
    "# 1002 - Area of Circle\n",
    "r = float(input())\n",
    "pi = 3.14159\n",
    "a = pi * r*r\n",
    "print(f\"A={a:.4f}\")"
   ]
  },
  {
   "cell_type": "code",
   "execution_count": 16,
   "id": "e2c71d13",
   "metadata": {},
   "outputs": [
    {
     "name": "stdout",
     "output_type": "stream",
     "text": [
      "SOMA = 40\n"
     ]
    }
   ],
   "source": [
    "# 1003 - Simple Sum\n",
    "a = int(input())\n",
    "b = int(input())\n",
    "soma = a + b\n",
    "print(f\"SOMA = {soma}\")"
   ]
  },
  {
   "cell_type": "code",
   "execution_count": 18,
   "id": "f63ef3e1",
   "metadata": {},
   "outputs": [
    {
     "name": "stdout",
     "output_type": "stream",
     "text": [
      "PROD = -300\n"
     ]
    }
   ],
   "source": [
    "# 1004 - Simple Product\n",
    "a = int(input())\n",
    "b = int(input())\n",
    "x = a * b\n",
    "print(f\"PROD = {x}\")"
   ]
  },
  {
   "cell_type": "code",
   "execution_count": 21,
   "id": "6dd2a586",
   "metadata": {},
   "outputs": [
    {
     "name": "stdout",
     "output_type": "stream",
     "text": [
      "MEDIA = 6.43182\n"
     ]
    }
   ],
   "source": [
    "# 1005 - Average 1\n",
    "a = float(input())\n",
    "b = float(input())\n",
    "avg = (a*3.5+b*7.5)/(3.5+7.5)\n",
    "print(f\"MEDIA = {avg:.5f}\")"
   ]
  },
  {
   "cell_type": "code",
   "execution_count": 22,
   "id": "870de794",
   "metadata": {},
   "outputs": [
    {
     "name": "stdout",
     "output_type": "stream",
     "text": [
      "MEDIA = 6.3\n"
     ]
    }
   ],
   "source": [
    "# 1006 - Average 2\n",
    "a = float(input())\n",
    "b = float(input())\n",
    "c = float(input())\n",
    "avg = (a*2 + b*3 + c*5)/(2 + 3 + 5)\n",
    "print(f\"MEDIA = {avg:.1f}\")"
   ]
  },
  {
   "cell_type": "code",
   "execution_count": 23,
   "id": "a5f26fad",
   "metadata": {},
   "outputs": [
    {
     "name": "stdout",
     "output_type": "stream",
     "text": [
      "DIFERENCA = -26\n"
     ]
    }
   ],
   "source": [
    "# 1007 - Difference\n",
    "a = int(input())\n",
    "b = int(input())\n",
    "c = int(input())\n",
    "d = int(input())\n",
    "\n",
    "diff = (a*b) - (c*d)\n",
    "print(f\"DIFERENCA = {diff}\")"
   ]
  },
  {
   "cell_type": "code",
   "execution_count": 25,
   "id": "ebbbeada",
   "metadata": {},
   "outputs": [
    {
     "name": "stdout",
     "output_type": "stream",
     "text": [
      "NUMBER = 25\n",
      "SALARY = U$ 550.00\n"
     ]
    }
   ],
   "source": [
    "# 1008 - Salary\n",
    "num = int(input())\n",
    "hrs = int(input())\n",
    "amount = float(input())\n",
    "salary = amount * hrs\n",
    "print(f\"NUMBER = {num}\" )\n",
    "print(f\"SALARY = U$ {salary:.2f}\")"
   ]
  },
  {
   "cell_type": "code",
   "execution_count": 4,
   "id": "05bb18f9",
   "metadata": {},
   "outputs": [
    {
     "name": "stdout",
     "output_type": "stream",
     "text": [
      "TOTAL = R$ 700.00\n"
     ]
    }
   ],
   "source": [
    "# 1009 - Salary with Bonus\n",
    "name = str(input())\n",
    "salary = float(input())\n",
    "sales_money = float(input())\n",
    "percentage_receive = (sales_money * 15)/100\n",
    "final_salary = salary + percentage_receive\n",
    "print(f\"TOTAL = R$ {final_salary:.2f}\")"
   ]
  },
  {
   "cell_type": "code",
   "execution_count": 5,
   "id": "788fad73",
   "metadata": {},
   "outputs": [
    {
     "name": "stdout",
     "output_type": "stream",
     "text": [
      "VALOR A PAGAR: R$ 15.50\n"
     ]
    }
   ],
   "source": [
    "# 1010 - Simple Calculate\n",
    "prod_1 = input()\n",
    "prod_2 = input()\n",
    "\n",
    "a1,b1,c1 = prod_1.split()\n",
    "a2,b2,c2 = prod_2.split()\n",
    "\n",
    "a1 = int(a1)\n",
    "a2 = int(a2)\n",
    "\n",
    "b1 = int(b1)\n",
    "b2 = int(b2)\n",
    "\n",
    "c1 = float(c1)\n",
    "c2 = float(c2)\n",
    "\n",
    "amount_to_be_paid = (b1*c1 + b2*c2)\n",
    "print(f\"VALOR A PAGAR: R$ {amount_to_be_paid:.2f}\")"
   ]
  },
  {
   "cell_type": "code",
   "execution_count": 6,
   "id": "0b423f96",
   "metadata": {},
   "outputs": [
    {
     "name": "stdout",
     "output_type": "stream",
     "text": [
      "VOLUME = 14797486501.627\n"
     ]
    }
   ],
   "source": [
    "# 1011 - Sphere\n",
    "r = int(input())\n",
    "pi = 3.14159\n",
    "volume = 4/3 * pi * r*r*r\n",
    "print(f\"VOLUME = {volume:.3f}\")"
   ]
  },
  {
   "cell_type": "markdown",
   "id": "1b84b47c",
   "metadata": {},
   "source": [
    "#### Space Repetition"
   ]
  },
  {
   "cell_type": "code",
   "execution_count": null,
   "id": "77711b43",
   "metadata": {},
   "outputs": [
    {
     "name": "stdout",
     "output_type": "stream",
     "text": [
      "TRIANGULO: 7.500\n",
      "CIRCULO: 78.540\n",
      "TRAPEZIO: 17.500\n",
      "QUADRADO: 16.000\n",
      "RETANGULO: 12.000\n"
     ]
    }
   ],
   "source": [
    "# 1012 - Area\n",
    "\n",
    "values = input().split()\n",
    "a = float(values[0])\n",
    "b = float(values[1])\n",
    "c = float(values[2])\n",
    "\n",
    "pi = 3.14159\n",
    "area_of_triangle = 1/2 * a * c\n",
    "area_of_circle = pi * c*c\n",
    "area_of_trapezium = (a+b)/2 * c\n",
    "area_of_square = b*b\n",
    "area_of_rectangle = a*b\n",
    "\n",
    "print(f\"TRIANGULO: {area_of_triangle:.3f}\")\n",
    "print(f\"CIRCULO: {area_of_circle:.3f}\")\n",
    "print(f\"TRAPEZIO: {area_of_trapezium:.3f}\")\n",
    "print(f\"QUADRADO: {area_of_square:.3f}\")\n",
    "print(f\"RETANGULO: {area_of_rectangle:.3f}\")"
   ]
  },
  {
   "cell_type": "markdown",
   "id": "eaed8b2c",
   "metadata": {},
   "source": [
    "### Explanation for space seperated values-\n",
    "we're treating the input as a single line of space-separated values and split() breaks that line into a list of strings. So if you type:\n",
    "3.0 4.0 5.2\n",
    "then values becomes:\n",
    "['3.0', '4.0', '5.2']\n",
    "so the indexing comes"
   ]
  },
  {
   "cell_type": "code",
   "execution_count": 11,
   "id": "0d141af9",
   "metadata": {},
   "outputs": [
    {
     "name": "stdout",
     "output_type": "stream",
     "text": [
      "106 eh o maior\n"
     ]
    }
   ],
   "source": [
    "# 1013 - The Greatest\n",
    "values = input().split()\n",
    "a = int(values[0])\n",
    "b = int(values[1])\n",
    "c = int(values[2])\n",
    "# max between a and b\n",
    "ab = (a + b + abs(a-b)) // 2\n",
    "# max between ab and c\n",
    "greatest = (ab + c + abs(ab-c)) // 2\n",
    "print(f\"{greatest} eh o maior\")"
   ]
  },
  {
   "cell_type": "code",
   "execution_count": 13,
   "id": "1e051669",
   "metadata": {},
   "outputs": [
    {
     "name": "stdout",
     "output_type": "stream",
     "text": [
      "14.286 km/l\n"
     ]
    }
   ],
   "source": [
    "# 1014 - Consumption\n",
    "x = int(input())\n",
    "y = float(input())\n",
    "consumption = x/y\n",
    "print(f\"{consumption:.3f} km/l\")"
   ]
  },
  {
   "cell_type": "code",
   "execution_count": 19,
   "id": "c6031258",
   "metadata": {},
   "outputs": [
    {
     "name": "stdout",
     "output_type": "stream",
     "text": [
      "16.1484\n"
     ]
    }
   ],
   "source": [
    "# 1015 - Distance between 2 points\n",
    "val_1 = input().split()\n",
    "val_2 = input().split()\n",
    "x1 = float(val_1[0])\n",
    "y1 = float(val_1[1])\n",
    "x2 = float(val_2[0])\n",
    "y2 = float(val_2[1])\n",
    "\n",
    "distance = ((x2-x1)**2 + (y2-y1)**2)**0.5\n",
    " \n",
    "print(f\"{distance:.4f}\")\n"
   ]
  },
  {
   "cell_type": "code",
   "execution_count": null,
   "id": "46489206",
   "metadata": {},
   "outputs": [
    {
     "name": "stdout",
     "output_type": "stream",
     "text": [
      "220 minutes\n"
     ]
    }
   ],
   "source": [
    "# 1016 - Distance\n",
    "distance = int(input())\n",
    "time_y = (60 * distance) // 30\n",
    "print(f\"{time_y} minutos\")"
   ]
  },
  {
   "cell_type": "code",
   "execution_count": 23,
   "id": "871c36a1",
   "metadata": {},
   "outputs": [
    {
     "name": "stdout",
     "output_type": "stream",
     "text": [
      "70.833\n"
     ]
    }
   ],
   "source": [
    "# 1017 - Fuel Spent\n",
    "time = int(input())\n",
    "speed = int(input())\n",
    "distance = speed * time\n",
    "liters_needed = distance / 12\n",
    "print(f\"{liters_needed:.3f}\") "
   ]
  },
  {
   "cell_type": "code",
   "execution_count": 24,
   "id": "d4520cb5",
   "metadata": {},
   "outputs": [
    {
     "name": "stdout",
     "output_type": "stream",
     "text": [
      "576\n",
      "5 nota(s) de R$ 100,00\n",
      "1 nota(s) de R$ 50,00\n",
      "1 nota(s) de R$ 20,00\n",
      "0 nota(s) de R$ 10,00\n",
      "1 nota(s) de R$ 5,00\n",
      "0 nota(s) de R$ 2,00\n",
      "1 nota(s) de R$ 1,00\n"
     ]
    }
   ],
   "source": [
    "# 1018 - Bank Notes\n",
    "num = int(input())\n",
    "bank_notes = [100, 50, 20, 10, 5, 2, 1]\n",
    "print(num)\n",
    "for notes in bank_notes:\n",
    "    count = num // notes\n",
    "    num %= notes\n",
    "    print(f\"{count} nota(s) de R$ {notes},00\")"
   ]
  },
  {
   "cell_type": "markdown",
   "id": "490b89f0",
   "metadata": {},
   "source": [
    "### Explanation- \n",
    "(amount // note) gives how many times the note fits into the remaining amount.\n",
    "\n",
    "(amount % note) updates the remaining amount after using those notes."
   ]
  },
  {
   "cell_type": "code",
   "execution_count": 2,
   "id": "9e36bccf",
   "metadata": {},
   "outputs": [
    {
     "name": "stdout",
     "output_type": "stream",
     "text": [
      "0:9:16\n"
     ]
    }
   ],
   "source": [
    "# 1019 - Time Conversion\n",
    "n = int(input())\n",
    "h = n // 3600\n",
    "remSec = n % 3600\n",
    "m = remSec // 60\n",
    "s = remSec % 60\n",
    "print(f\"{h}:{m}:{s}\")"
   ]
  },
  {
   "cell_type": "code",
   "execution_count": 10,
   "id": "c22b2688",
   "metadata": {},
   "outputs": [
    {
     "name": "stdout",
     "output_type": "stream",
     "text": [
      "2 ano(s)\n",
      "2 mes(es)\n",
      "10 dia(s)\n"
     ]
    }
   ],
   "source": [
    "# 1020 - Age in Days\n",
    "n = int(input())\n",
    "y = n // 365\n",
    "remTym = n % 365\n",
    "m = remTym // 30\n",
    "d = remTym % 30\n",
    "print(y, \"ano(s)\")\n",
    "print(m, \"mes(es)\")\n",
    "print(d, \"dia(s)\")"
   ]
  },
  {
   "cell_type": "code",
   "execution_count": 14,
   "id": "d07c20e4",
   "metadata": {},
   "outputs": [
    {
     "name": "stdout",
     "output_type": "stream",
     "text": [
      "NOTAS:\n",
      "5 nota(s) de R$ 100.00\n",
      "1 nota(s) de R$ 50.00\n",
      "1 nota(s) de R$ 20.00\n",
      "0 nota(s) de R$ 10.00\n",
      "1 nota(s) de R$ 5.00\n",
      "0 nota(s) de R$ 2.00\n",
      "MOEDAS:\n",
      "1 moeda(s) de R$ 1.00\n",
      "1 moeda(s) de R$ 0.50\n",
      "0 moeda(s) de R$ 0.25\n",
      "2 moeda(s) de R$ 0.10\n",
      "0 moeda(s) de R$ 0.05\n",
      "3 moeda(s) de R$ 0.01\n"
     ]
    }
   ],
   "source": [
    "# 1021 - Banknotes and Coins\n",
    "n = float(input())\n",
    "cents = int(round(n * 100))\n",
    "bank_notes = [10000, 5000, 2000, 1000, 500, 200]\n",
    "bank_coins = [100, 50, 25, 10, 5, 1 ]\n",
    "\n",
    "print(\"NOTAS:\")\n",
    "for notes in bank_notes:\n",
    "    num_notes = cents // notes\n",
    "    print(f\"{num_notes} nota(s) de R$ {notes/100:.2f}\")\n",
    "    cents %= notes\n",
    "\n",
    "print(\"MOEDAS:\")\n",
    "for coins in bank_coins:\n",
    "    num_coins = cents // coins\n",
    "    print(f\"{num_coins} moeda(s) de R$ {coins/100:.2f}\")\n",
    "    cents %= coins\n"
   ]
  },
  {
   "cell_type": "markdown",
   "id": "6df30ec1",
   "metadata": {},
   "source": [
    "#### <span style=\"color:#00bfff\"> Convert to cents: </style>\n",
    "Multiply the input by 100 and round to avoid floating-point errors. \n",
    "#### <span style=\"color:#00bfff\"> num_coins / num_notes = cents // coins/notes </style>\n",
    "Count number of coins/notes\n",
    "#### <span style=\"color:#00bfff\"> cents %= notes/coins </style>\n",
    "update value (remaining so mod)"
   ]
  },
  {
   "cell_type": "markdown",
   "id": "dacd702f",
   "metadata": {},
   "source": [
    "## <span style=\"color : red\">Ends</span>\n"
   ]
  }
 ],
 "metadata": {
  "kernelspec": {
   "display_name": "Python 3",
   "language": "python",
   "name": "python3"
  },
  "language_info": {
   "codemirror_mode": {
    "name": "ipython",
    "version": 3
   },
   "file_extension": ".py",
   "mimetype": "text/x-python",
   "name": "python",
   "nbconvert_exporter": "python",
   "pygments_lexer": "ipython3",
   "version": "3.12.0"
  }
 },
 "nbformat": 4,
 "nbformat_minor": 5
}
